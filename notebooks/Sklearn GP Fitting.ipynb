{
 "cells": [
  {
   "cell_type": "code",
   "execution_count": 1,
   "metadata": {},
   "outputs": [
    {
     "name": "stdout",
     "output_type": "stream",
     "text": [
      "Automatically created module for IPython interactive environment\n",
      "Time for KRR fitting: 8.920\n",
      "Time for GPR fitting: 0.195\n",
      "Time for KRR prediction: 0.152\n",
      "Time for GPR prediction: 0.136\n",
      "Time for GPR prediction with standard-deviation: 0.167\n"
     ]
    },
    {
     "data": {
      "text/plain": [
       "<Figure size 1000x500 with 1 Axes>"
      ]
     },
     "metadata": {},
     "output_type": "display_data"
    }
   ],
   "source": [
    "print(__doc__)\n",
    "\n",
    "# Authors: Jan Hendrik Metzen <jhm@informatik.uni-bremen.de>\n",
    "# License: BSD 3 clause\n",
    "\n",
    "\n",
    "import time\n",
    "\n",
    "import numpy as np\n",
    "\n",
    "import matplotlib.pyplot as plt\n",
    "\n",
    "from sklearn.kernel_ridge import KernelRidge\n",
    "from sklearn.model_selection import GridSearchCV\n",
    "from sklearn.gaussian_process import GaussianProcessRegressor\n",
    "from sklearn.gaussian_process.kernels import WhiteKernel, ExpSineSquared\n",
    "\n",
    "rng = np.random.RandomState(0)\n",
    "\n",
    "# Generate sample data\n",
    "X = 15 * rng.rand(100, 1)\n",
    "y = np.sin(X).ravel()\n",
    "y += 3 * (0.5 - rng.rand(X.shape[0]))  # add noise\n",
    "\n",
    "# Fit KernelRidge with parameter selection based on 5-fold cross validation\n",
    "param_grid = {\"alpha\": [1e0, 1e-1, 1e-2, 1e-3],\n",
    "              \"kernel\": [ExpSineSquared(l, p)\n",
    "                         for l in np.logspace(-2, 2, 10)\n",
    "                         for p in np.logspace(0, 2, 10)]}\n",
    "kr = GridSearchCV(KernelRidge(), cv=5, param_grid=param_grid)\n",
    "stime = time.time()\n",
    "kr.fit(X, y)\n",
    "print(\"Time for KRR fitting: %.3f\" % (time.time() - stime))\n",
    "\n",
    "gp_kernel = ExpSineSquared(1.0, 5.0, periodicity_bounds=(1e-2, 1e1)) \\\n",
    "    + WhiteKernel(1e-1)\n",
    "gpr = GaussianProcessRegressor(kernel=gp_kernel)\n",
    "stime = time.time()\n",
    "gpr.fit(X, y)\n",
    "print(\"Time for GPR fitting: %.3f\" % (time.time() - stime))\n",
    "\n",
    "# Predict using kernel ridge\n",
    "X_plot = np.linspace(0, 20, 10000)[:, None]\n",
    "stime = time.time()\n",
    "y_kr = kr.predict(X_plot)\n",
    "print(\"Time for KRR prediction: %.3f\" % (time.time() - stime))\n",
    "\n",
    "# Predict using gaussian process regressor\n",
    "stime = time.time()\n",
    "y_gpr = gpr.predict(X_plot, return_std=False)\n",
    "print(\"Time for GPR prediction: %.3f\" % (time.time() - stime))\n",
    "\n",
    "stime = time.time()\n",
    "y_gpr, y_std = gpr.predict(X_plot, return_std=True)\n",
    "print(\"Time for GPR prediction with standard-deviation: %.3f\"\n",
    "      % (time.time() - stime))\n",
    "\n",
    "# Plot results\n",
    "plt.figure(figsize=(10, 5))\n",
    "lw = 2\n",
    "plt.scatter(X, y, c='k', label='data')\n",
    "plt.plot(X_plot, np.sin(X_plot), color='navy', lw=lw, label='True')\n",
    "plt.plot(X_plot, y_kr, color='turquoise', lw=lw,\n",
    "         label='KRR (%s)' % kr.best_params_)\n",
    "plt.plot(X_plot, y_gpr, color='darkorange', lw=lw,\n",
    "         label='GPR (%s)' % gpr.kernel_)\n",
    "plt.fill_between(X_plot[:, 0], y_gpr - y_std, y_gpr + y_std, color='darkorange',\n",
    "                 alpha=0.2)\n",
    "plt.xlabel('data')\n",
    "plt.ylabel('target')\n",
    "plt.xlim(0, 20)\n",
    "plt.ylim(-4, 4)\n",
    "plt.title('GPR versus Kernel Ridge')\n",
    "plt.legend(loc=\"best\",  scatterpoints=1, prop={'size': 8})\n",
    "plt.show()"
   ]
  }
 ],
 "metadata": {
  "kernelspec": {
   "display_name": "Python (Multifidelity)",
   "language": "python",
   "name": "mufi_venv"
  },
  "language_info": {
   "codemirror_mode": {
    "name": "ipython",
    "version": 3
   },
   "file_extension": ".py",
   "mimetype": "text/x-python",
   "name": "python",
   "nbconvert_exporter": "python",
   "pygments_lexer": "ipython3",
   "version": "3.6.8"
  }
 },
 "nbformat": 4,
 "nbformat_minor": 2
}
