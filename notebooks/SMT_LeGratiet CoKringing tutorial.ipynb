{
 "cells": [
  {
   "cell_type": "code",
   "execution_count": 1,
   "metadata": {},
   "outputs": [],
   "source": [
    "import numpy as np\n",
    "import matplotlib.pyplot as plt\n",
    "from smt.applications import MFK"
   ]
  },
  {
   "cell_type": "code",
   "execution_count": 44,
   "metadata": {
    "scrolled": false
   },
   "outputs": [
    {
     "name": "stdout",
     "output_type": "stream",
     "text": [
      "___________________________________________________________________________\n",
      "   \n",
      "                                    MFK\n",
      "___________________________________________________________________________\n",
      "   \n",
      " Problem size\n",
      "   \n",
      "      # training points.        : 4\n",
      "   \n",
      "___________________________________________________________________________\n",
      "   \n",
      " Training\n",
      "   \n",
      "   Training ...\n",
      "   Training - done. Time (sec):  0.0210059\n",
      "___________________________________________________________________________\n",
      "   \n",
      " Evaluation\n",
      "   \n",
      "      # eval points. : 101\n",
      "   \n",
      "   Predicting ...\n",
      "   Predicting - done. Time (sec):  0.0102122\n",
      "   \n",
      "   Prediction time/pt. (sec) :  0.0001011\n",
      "   \n",
      "___________________________________________________________________________\n",
      "   \n",
      " Evaluation\n",
      "   \n",
      "      # eval points. : 101\n",
      "   \n",
      "   Predicting ...\n",
      "   Predicting - done. Time (sec):  0.0050850\n",
      "   \n",
      "   Prediction time/pt. (sec) :  0.0000503\n",
      "   \n"
     ]
    },
    {
     "data": {
      "image/png": "[encoded data removed]",
      "text/plain": [
       "<Figure size 432x288 with 1 Axes>"
      ]
     },
     "metadata": {
      "needs_background": "light"
     },
     "output_type": "display_data"
    }
   ],
   "source": [
    "# Define the\n",
    "def LF_function(x):\n",
    "    import numpy as np\n",
    "\n",
    "    return (\n",
    "        0.5 * ((x * 6 - 2) ** 2) * np.sin((x * 6 - 2) * 2)\n",
    "        + (x - 0.5) * 10.0\n",
    "        - 5\n",
    "    )\n",
    "\n",
    "def HF_function(x):\n",
    "    import numpy as np\n",
    "\n",
    "    return ((x * 6 - 2) ** 2) * np.sin((x * 6 - 2) * 2)\n",
    "\n",
    "# Problem set up\n",
    "ndim = 1\n",
    "Xt_e = np.linspace(0, 1, 4, endpoint=True).reshape(-1, ndim)\n",
    "Xt_c = np.linspace(0, 1, 11, endpoint=True).reshape(-1, ndim)\n",
    "\n",
    "nt_exp = Xt_e.shape[0]\n",
    "nt_cheap = Xt_c.shape[0]\n",
    "\n",
    "# Evaluate the HF and LF functions\n",
    "yt_e = HF_function(Xt_e)\n",
    "yt_c = LF_function(Xt_c)\n",
    "\n",
    "sm = MFK(theta0=np.array(Xt_e.shape[1] * [1.0]))\n",
    "\n",
    "# low-fidelity dataset names being integers from 0 to level-1\n",
    "sm.set_training_values(Xt_c, yt_c, name=0)\n",
    "# high-fidelity dataset without name\n",
    "sm.set_training_values(Xt_e, yt_e)\n",
    "\n",
    "# train the model\n",
    "sm.train()\n",
    "\n",
    "x = np.linspace(0, 1, 101, endpoint=True).reshape(-1, 1)\n",
    "\n",
    "# query the outputs\n",
    "y = sm.predict_values(x)\n",
    "MSE = sm.predict_variances(x)\n",
    "der = sm.predict_derivatives(x, kx=0)\n",
    "\n",
    "plt.figure()\n",
    "\n",
    "plt.plot(x, HF_function(x), label=\"reference\")\n",
    "plt.plot(x, y, linestyle=\"-.\", label=\"mean_gp\")\n",
    "plt.scatter(Xt_e, yt_e, marker=\"o\", color=\"k\", label=\"HF doe\")\n",
    "plt.scatter(Xt_c, yt_c, marker=\"*\", color=\"g\", label=\"LF doe\")\n",
    "plt.fill_between(x.ravel(), y.ravel() - 1.96*sigma.ravel(), y.ravel() + 1.96*sigma.ravel(), color='darkorange',\n",
    "                 alpha=0.2)\n",
    "plt.legend(loc=0)\n",
    "plt.ylim(-10, 17)\n",
    "plt.xlim(-0.1, 1.1)\n",
    "plt.xlabel(r\"$x$\")\n",
    "plt.ylabel(r\"$y$\")\n",
    "\n",
    "plt.show()"
   ]
  },
  {
   "cell_type": "code",
   "execution_count": null,
   "metadata": {},
   "outputs": [],
   "source": []
  },
  {
   "cell_type": "code",
   "execution_count": null,
   "metadata": {},
   "outputs": [],
   "source": []
  },
  {
   "cell_type": "code",
   "execution_count": null,
   "metadata": {},
   "outputs": [],
   "source": []
  }
 ],
 "metadata": {
  "kernelspec": {
   "display_name": "Python (Multifidelity)",
   "language": "python",
   "name": "mufi_venv"
  },
  "language_info": {
   "codemirror_mode": {
    "name": "ipython",
    "version": 3
   },
   "file_extension": ".py",
   "mimetype": "text/x-python",
   "name": "python",
   "nbconvert_exporter": "python",
   "pygments_lexer": "ipython3",
   "version": "3.6.8"
  }
 },
 "nbformat": 4,
 "nbformat_minor": 2
}
